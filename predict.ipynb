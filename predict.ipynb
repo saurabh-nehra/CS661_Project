{
 "cells": [
  {
   "cell_type": "code",
   "execution_count": 2,
   "metadata": {},
   "outputs": [],
   "source": [
    "import pandas as pd"
   ]
  },
  {
   "cell_type": "code",
   "execution_count": 3,
   "metadata": {},
   "outputs": [],
   "source": [
    "weather_data = pd.read_csv(\"./cleaning/combined_reduced.csv\")"
   ]
  },
  {
   "cell_type": "code",
   "execution_count": 4,
   "metadata": {},
   "outputs": [],
   "source": [
    "# Drop the columns that are not required for the analysis\n",
    "weather_data = weather_data[['date','inme', 'regi', 'wsnm', 'lat', 'lon', 'elvt', 'prcp', 'stp', 'temp', 'hmdy', 'wdct', 'wdsp']]\n",
    "\n",
    "\n",
    "# Define thresholds for each weather variable to determine the state for each day\n",
    "temp_threshold = 30 # Example threshold for temperature\n",
    "prcp_threshold = 0.1 # Example threshold for precipitation\n",
    "hmdy_threshold = 75 # Example threshold for humidity\n",
    "wdsp_threshold = 5 # Example threshold for wind speed\n",
    "\n",
    "# Assign the state based on the thresholds defined above for each day\n",
    "weather_data['state'] = 'Clear'\n",
    "weather_data.loc[weather_data['hmdy'] > hmdy_threshold, 'state'] = 'Haze'\n",
    "weather_data.loc[weather_data['wdsp'] > wdsp_threshold, 'state'] = 'Windy'\n",
    "weather_data.loc[weather_data['prcp'] > prcp_threshold, 'state'] = 'Rain'\n",
    "weather_data.loc[weather_data['temp'] > temp_threshold, 'state'] = 'Heatwave'\n",
    "\n",
    "# Save the result to a new file\n",
    "weather_data.to_csv('./weather_states.csv',index = False)\n"
   ]
  },
  {
   "cell_type": "code",
   "execution_count": 6,
   "metadata": {},
   "outputs": [],
   "source": [
    "target_value = 'Rain'\n",
    "column_name = 'state'\n",
    "count = weather_data[column_name].value_counts()\n",
    "ratio = count[target_value] / count.sum()"
   ]
  },
  {
   "cell_type": "code",
   "execution_count": 7,
   "metadata": {},
   "outputs": [
    {
     "name": "stdout",
     "output_type": "stream",
     "text": [
      "0.21412028848472814\n"
     ]
    }
   ],
   "source": [
    "print(ratio)"
   ]
  }
 ],
 "metadata": {
  "kernelspec": {
   "display_name": "CS661proj",
   "language": "python",
   "name": "python3"
  },
  "language_info": {
   "codemirror_mode": {
    "name": "ipython",
    "version": 3
   },
   "file_extension": ".py",
   "mimetype": "text/x-python",
   "name": "python",
   "nbconvert_exporter": "python",
   "pygments_lexer": "ipython3",
   "version": "3.9.13"
  },
  "orig_nbformat": 4
 },
 "nbformat": 4,
 "nbformat_minor": 2
}
