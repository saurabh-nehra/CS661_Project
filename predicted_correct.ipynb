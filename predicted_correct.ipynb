{
 "cells": [
  {
   "cell_type": "code",
   "execution_count": 1,
   "metadata": {},
   "outputs": [],
   "source": [
    "import pandas as pd"
   ]
  },
  {
   "cell_type": "code",
   "execution_count": 18,
   "metadata": {},
   "outputs": [],
   "source": [
    "weather_data = pd.read_csv(\"./predicted_weather.csv\")"
   ]
  },
  {
   "cell_type": "code",
   "execution_count": 38,
   "metadata": {},
   "outputs": [],
   "source": [
    "# Define thresholds for each weather variable to determine the state for each day\n",
    "temp_threshold = ['30 to 35', '>35'] # Example threshold for temperature\n",
    "prcp_threshold = ['0.1 to 1', '1 to 10', '>10'] # Example threshold for precipitation\n",
    "hmdy_threshold = ['>75'] # Example threshold for humidity\n",
    "wdsp_threshold = ['5 to 10', '10 to 15', '>15'] # Example threshold for wind speed\n",
    "\n",
    "# Assign the state based on the thresholds defined above for each day\n",
    "weather_data['state'] = 'Clear'\n",
    "weather_data.loc[weather_data['hmdy_class'].isin(hmdy_threshold), 'state'] = 'Haze'\n",
    "weather_data.loc[weather_data['wdsp_class'].isin(wdsp_threshold), 'state'] = 'Windy'\n",
    "weather_data.loc[weather_data['prcp_class'].isin(prcp_threshold), 'state'] = 'Rain'\n",
    "weather_data.loc[weather_data['temp_class'].isin(temp_threshold), 'state'] = 'Heatwave'\n",
    "\n",
    "# Save the result to a new file\n",
    "weather_data.to_csv('./predicted.csv',index = False)\n"
   ]
  },
  {
   "cell_type": "code",
   "execution_count": 41,
   "metadata": {},
   "outputs": [],
   "source": [
    "target_value = 'Rain'\n",
    "column_name = 'state'\n",
    "count = weather_data[column_name].value_counts()\n",
    "ratio = count[target_value] / count.sum()"
   ]
  }
 ],
 "metadata": {
  "kernelspec": {
   "display_name": "base",
   "language": "python",
   "name": "python3"
  },
  "language_info": {
   "codemirror_mode": {
    "name": "ipython",
    "version": 3
   },
   "file_extension": ".py",
   "mimetype": "text/x-python",
   "name": "python",
   "nbconvert_exporter": "python",
   "pygments_lexer": "ipython3",
   "version": "3.9.13"
  },
  "orig_nbformat": 4
 },
 "nbformat": 4,
 "nbformat_minor": 2
}
